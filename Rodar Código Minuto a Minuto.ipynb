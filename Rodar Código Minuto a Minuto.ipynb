{
 "cells": [
  {
   "cell_type": "code",
   "execution_count": 6,
   "metadata": {},
   "outputs": [
    {
     "name": "stdout",
     "output_type": "stream",
     "text": [
      "Cotação Atualizada. 2022-02-10 13:45:43.348667\n"
     ]
    }
   ],
   "source": [
    "import requests\n",
    "import pandas as pd\n",
    "from datetime import datetime\n",
    "import time\n",
    "\n",
    "#Transformando API em Json\n",
    "# cotacoes = requests.get(\"https://economia.awesomeapi.com.br/last/USD-BRL,EUR-BRL,BTC-BRL\")\n",
    "# cotacoes = requisicao.json()\n",
    "# print(cotacoes)\n",
    "\n",
    "requisicao = requests.get(\"https://economia.awesomeapi.com.br/last/USD-BRL,EUR-BRL,BTC-BRL\")\n",
    "requisicao_dic = requisicao.json()\n",
    "\n",
    "cotacao_dolar = requisicao_dic[\"USDBRL\"][\"bid\"]\n",
    "cotacao_euro = requisicao_dic[\"EURBRL\"][\"bid\"]\n",
    "cotacao_btc = requisicao_dic[\"BTCBRL\"][\"bid\"]\n",
    "\n",
    "tabela = pd.read_excel(\"Cotações.xlsx\")\n",
    "tabela.loc[0, \"Cotação\"] = float(cotacao_dolar)\n",
    "tabela.loc[1, \"Cotação\"] = float(cotacao_euro)\n",
    "tabela.loc[2, \"Cotação\"] = float(cotacao_btc) * 1000\n",
    "tabela.loc[0, \"Data Última Atualização\"] = datetime.now()\n",
    "\n",
    "tabela.to_excel(\"Cotações.xlsx\", index=False)\n",
    "print(f\"Cotação Atualizada. {datetime.now()}\")\n",
    "    "
   ]
  },
  {
   "cell_type": "code",
   "execution_count": null,
   "metadata": {},
   "outputs": [],
   "source": []
  }
 ],
 "metadata": {
  "kernelspec": {
   "display_name": "Python 3",
   "language": "python",
   "name": "python3"
  },
  "language_info": {
   "codemirror_mode": {
    "name": "ipython",
    "version": 3
   },
   "file_extension": ".py",
   "mimetype": "text/x-python",
   "name": "python",
   "nbconvert_exporter": "python",
   "pygments_lexer": "ipython3",
   "version": "3.8.5"
  }
 },
 "nbformat": 4,
 "nbformat_minor": 5
}
